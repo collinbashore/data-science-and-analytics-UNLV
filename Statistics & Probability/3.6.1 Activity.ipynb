{
 "cells": [
  {
   "cell_type": "markdown",
   "id": "e7275326",
   "metadata": {},
   "source": [
    "# 3.6.1 Activity"
   ]
  },
  {
   "cell_type": "code",
   "execution_count": 1,
   "id": "1b09bb0d",
   "metadata": {},
   "outputs": [],
   "source": [
    "# Import libraries needed for this activity\n",
    "import numpy as np\n",
    "import math\n",
    "from scipy import stats"
   ]
  },
  {
   "cell_type": "markdown",
   "id": "5afa9073",
   "metadata": {},
   "source": [
    "### Part 1: Test Scores"
   ]
  },
  {
   "cell_type": "markdown",
   "id": "293d4c05",
   "metadata": {},
   "source": [
    "Here are the test scores for Mrs. Diaz's class:\n",
    "\n",
    " 35, 42, 74, 37, 43, 64, 74, 53, 61, 45, 35, 46, 54, 71, 44, 47, 54, 41, 37, 43\n",
    " \n",
    "#### Step 1: Calculate the z-score to represent the raw test scores "
   ]
  },
  {
   "cell_type": "code",
   "execution_count": 2,
   "id": "954d93d1",
   "metadata": {},
   "outputs": [
    {
     "name": "stdout",
     "output_type": "stream",
     "text": [
      "The average test score in Mrs. Diaz's class is 50.0\n",
      "The test scores in Mrs. Diaz's class are 12.39 points away from the average test score.\n",
      "[-1.21 -0.65  1.94 -1.05 -0.57  1.13  1.94  0.24  0.89 -0.4  -1.21 -0.32\n",
      "  0.32  1.7  -0.48 -0.24  0.32 -0.73 -1.05 -0.57]\n"
     ]
    }
   ],
   "source": [
    "test_scores = np.array([35, 42, 74, 37, 43, 64, 74, 53, 61, 45, 35, 46, 54, 71, 44, 47, 54, 41, 37, 43])\n",
    "\n",
    "# Average test score\n",
    "mean_test_scores = np.mean(test_scores)\n",
    "print(\"The average test score in Mrs. Diaz's class is \" + str(mean_test_scores))\n",
    "\n",
    "# Standard deviation of test scores\n",
    "std_test_scores = np.std(test_scores)\n",
    "print(\"The test scores in Mrs. Diaz's class are \" + str(np.round(std_test_scores, 2)) + \" points away from the average test score.\")\n",
    "\n",
    "# Calculate z-scores\n",
    "z_scores = stats.zscore(test_scores)\n",
    "print(np.round(z_scores, 2))"
   ]
  },
  {
   "cell_type": "markdown",
   "id": "cfc7f545",
   "metadata": {},
   "source": [
    "### Part 2: Calculating Sample Size"
   ]
  },
  {
   "cell_type": "markdown",
   "id": "d0648e9c",
   "metadata": {},
   "source": [
    "Mrs. Diaz would like to conduct a survey on students’ study habits and test scores. Use the\n",
    "formula for sample size to calculate how many students she would need for this study.\n",
    "\n",
    "Mrs. Diaz would like to operate with a __90 percent confidence level__ with a __5 percent margin\n",
    "of error__. She will conduct the study at a middle school with __700 students__. Of those\n",
    "students, __350__ meet the current GPA requirements for her study.\n",
    "\n",
    "#### Step 1: Find the corresponding z-score for the given confidence level."
   ]
  },
  {
   "cell_type": "code",
   "execution_count": 3,
   "id": "6e3d1005",
   "metadata": {},
   "outputs": [
    {
     "name": "stdout",
     "output_type": "stream",
     "text": [
      "1.645\n",
      "0.5\n",
      "0.05\n"
     ]
    }
   ],
   "source": [
    "# Calculating z-score for 90% confidence interval\n",
    "CI = 0.90\n",
    "crit_value = stats.norm.ppf((1 + CI)/2)\n",
    "print(round(crit_value, 3))\n",
    "\n",
    "# Calculating population proportion\n",
    "p = 350 / 700\n",
    "print(p)\n",
    "\n",
    "# Defining the margin of error\n",
    "M = 0.05\n",
    "print(M)"
   ]
  },
  {
   "cell_type": "markdown",
   "id": "b6b92526",
   "metadata": {},
   "source": [
    "#### Step 2: Use the sample size formula to calculate the desired sample size."
   ]
  },
  {
   "attachments": {
    "Sample%20Size%20Formula%20for%20Proportion.PNG": {
     "image/png": "[encoded data removed]"
    }
   },
   "cell_type": "markdown",
   "id": "3f17ef9b",
   "metadata": {},
   "source": [
    "![Sample%20Size%20Formula%20for%20Proportion.PNG](attachment:Sample%20Size%20Formula%20for%20Proportion.PNG)"
   ]
  },
  {
   "cell_type": "code",
   "execution_count": 4,
   "id": "731a58aa",
   "metadata": {},
   "outputs": [
    {
     "name": "stdout",
     "output_type": "stream",
     "text": [
      "271\n"
     ]
    }
   ],
   "source": [
    "# Calculating the sample size Mrs Diaz needs\n",
    "\n",
    "n = ((crit_value * math.sqrt(p * (1 - p))) / M )**2\n",
    "print(math.ceil(n))"
   ]
  },
  {
   "cell_type": "code",
   "execution_count": 5,
   "id": "3f01d6bf",
   "metadata": {},
   "outputs": [
    {
     "name": "stdout",
     "output_type": "stream",
     "text": [
      "271\n",
      "The alternative formula for sample size is equal to the sample size formula for proportion\n"
     ]
    }
   ],
   "source": [
    "# Calculating the sample size using the alternative formula\n",
    "\n",
    "n2 = (crit_value / (2 * M))**2\n",
    "print(math.ceil(n2))\n",
    "\n",
    "if n == n2:\n",
    "    print(\"The alternative formula for sample size is equal to the sample size formula for proportion\")\n",
    "else:\n",
    "    print(\"The sample size formula for proportion is less than the alternative formula for sample size\")"
   ]
  },
  {
   "cell_type": "code",
   "execution_count": null,
   "id": "e9752c61",
   "metadata": {},
   "outputs": [],
   "source": []
  }
 ],
 "metadata": {
  "kernelspec": {
   "display_name": "Python 3 (ipykernel)",
   "language": "python",
   "name": "python3"
  },
  "language_info": {
   "codemirror_mode": {
    "name": "ipython",
    "version": 3
   },
   "file_extension": ".py",
   "mimetype": "text/x-python",
   "name": "python",
   "nbconvert_exporter": "python",
   "pygments_lexer": "ipython3",
   "version": "3.8.5"
  }
 },
 "nbformat": 4,
 "nbformat_minor": 5
}
